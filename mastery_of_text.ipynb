{
 "cells": [
  {
   "cell_type": "code",
   "execution_count": 1,
   "id": "6d51a471-3ea5-46e5-a97f-f4d97b434c2a",
   "metadata": {},
   "outputs": [],
   "source": [
    "import urllib.request\n",
    "\n",
    "url = \"https://www.gutenberg.org/cache/epub/10/pg10.txt\"\n",
    "response = urllib.request.urlopen(url)\n",
    "pg10 = response.read().decode('utf-8')"
   ]
  },
  {
   "cell_type": "code",
   "execution_count": 2,
   "id": "addc728b-078e-4513-b3d7-611e46813a97",
   "metadata": {},
   "outputs": [
    {
     "name": "stdout",
     "output_type": "stream",
     "text": [
      "Number of lines: 99969\n"
     ]
    }
   ],
   "source": [
    "count_line = pg10.count('\\n') + 1\n",
    "print(\"Number of lines:\", count_line)"
   ]
  },
  {
   "cell_type": "code",
   "execution_count": 3,
   "id": "1a8fabd2-021a-459d-9d8f-67909079fdbd",
   "metadata": {},
   "outputs": [
    {
     "name": "stdout",
     "output_type": "stream",
     "text": [
      "Number of words: 795227\n"
     ]
    }
   ],
   "source": [
    "import re\n",
    "\n",
    "words = re.findall(r\"[A-Za-z]+\", pg10)\n",
    "word_count = len(words)\n",
    "print(\"Number of words:\", word_count)"
   ]
  },
  {
   "cell_type": "code",
   "execution_count": 4,
   "id": "68f627ca-57c2-41dd-857a-4c7857981a6f",
   "metadata": {},
   "outputs": [
    {
     "name": "stdout",
     "output_type": "stream",
     "text": [
      "Number of the word 'apostle' appeared: 47\n"
     ]
    }
   ],
   "source": [
    "count_apostle = sum(1 for word in words if word.lower() == 'apostle')\n",
    "print(\"Number of the word 'apostle' appeared:\", count_apostle)"
   ]
  },
  {
   "cell_type": "code",
   "execution_count": 5,
   "id": "242f845d-7dae-46e3-8985-233b3d6340ac",
   "metadata": {},
   "outputs": [
    {
     "name": "stdout",
     "output_type": "stream",
     "text": [
      "Most common seen word: 'the' (happens 64309 times)\n"
     ]
    }
   ],
   "source": [
    "frequent_word = {}\n",
    "\n",
    "for word in words:\n",
    "    lowest_word = word.lower()\n",
    "    if lowest_word in frequent_word:\n",
    "        frequent_word[lowest_word] += 1\n",
    "    else:\n",
    "        frequent_word[lowest_word] = 1\n",
    "        \n",
    "most_common_word = None\n",
    "most_count = 0\n",
    "\n",
    "for word, count in frequent_word.items():\n",
    "    if count > most_count:\n",
    "        most_common_word = word\n",
    "        most_count = count\n",
    "\n",
    "print(f\"Most common seen word: '{most_common_word}' (happens {most_count} times)\")\n"
   ]
  },
  {
   "cell_type": "code",
   "execution_count": null,
   "id": "4a79577b-06d3-4397-9072-20d185c357dc",
   "metadata": {},
   "outputs": [],
   "source": []
  }
 ],
 "metadata": {
  "kernelspec": {
   "display_name": "Python [conda env:base] *",
   "language": "python",
   "name": "conda-base-py"
  },
  "language_info": {
   "codemirror_mode": {
    "name": "ipython",
    "version": 3
   },
   "file_extension": ".py",
   "mimetype": "text/x-python",
   "name": "python",
   "nbconvert_exporter": "python",
   "pygments_lexer": "ipython3",
   "version": "3.12.7"
  }
 },
 "nbformat": 4,
 "nbformat_minor": 5
}
